{
 "cells": [
  {
   "cell_type": "code",
   "execution_count": null,
   "metadata": {},
   "outputs": [],
   "source": [
    "# from google.colab import output\n",
    "# output.enable_custom_widget_manager()\n",
    "%matplotlib ipympl\n",
    "\n",
    "import matplotlib.pyplot as plt\n",
    "from ipywidgets import interact\n",
    "\n",
    "from IPython.display import display, HTML\n",
    "import numpy as np\n",
    "import matplotlib.pyplot as plt\n",
    "import cv2\n",
    "import sys\n",
    "import torch\n",
    "from PIL import Image\n",
    "import torchvision.transforms as transforms\n",
    "\n",
    "\n",
    "def resize(image):\n",
    "    # 获取图像的高度和宽度\n",
    "    height, width = image.shape[:2]\n",
    "\n",
    "    # 计算缩放比例\n",
    "    if height > width:\n",
    "        new_height = 512\n",
    "        new_width = int(width * (512 / height))\n",
    "    else:\n",
    "        new_width = 512\n",
    "        new_height = int(height * (512 / width))\n",
    "    resized_image = cv2.resize(image, (new_width, new_height))\n",
    "    return resized_image\n",
    "    \n",
    "\n",
    "# Load image\n",
    "# image = plt.imread('assets/ikun.jpg')\n",
    "image = plt.imread('frame_00002.jpg')\n",
    "\n",
    "# image = cv2.resize(image, (512, 512)) # for saving memory if use SD-pipeline\n",
    "image = resize(image)\n",
    "\n",
    "# Create figure and axis\n",
    "fig, ax = plt.subplots()\n",
    "\n",
    "# Display image on axis\n",
    "ax.imshow(image)\n",
    "\n",
    "# Define function to get mouse coordinates\n",
    "def onclick(event):\n",
    "    # Get x and y coordinates of mouse click\n",
    "    x, y = event.xdata, event.ydata\n",
    "    if event.button == 1:\n",
    "        # Store clicked coordinates in positive coords\n",
    "        pos_coords.append((int(x), int(y)))\n",
    "        ax.plot(int(x), int(y), 'go')\n",
    "        print(f\"set positive point at x={int(x)}, y={int(y)}\")\n",
    "    elif event.button == 3:\n",
    "        # Store clicked coordinates in negative coords\n",
    "        neg_coords.append((int(x), int(y)))\n",
    "        ax.plot(int(x), int(y), 'ro')\n",
    "        print(f\"set negative point at x={int(x)}, y={int(y)}\")\n",
    "\n",
    "# Connect function to mouse click event\n",
    "cid = fig.canvas.mpl_connect('button_press_event', onclick)\n",
    "\n",
    "# Store clicked coordinates\n",
    "pos_coords = []\n",
    "neg_coords = []\n",
    "\n",
    "# Display interactive plot\n",
    "plt.show()"
   ]
  },
  {
   "cell_type": "code",
   "execution_count": null,
   "metadata": {},
   "outputs": [],
   "source": [
    "# Disconnect function from mouse click event\n",
    "fig.canvas.mpl_disconnect(cid)"
   ]
  },
  {
   "cell_type": "code",
   "execution_count": null,
   "metadata": {},
   "outputs": [],
   "source": [
    "deviceID = 0\n",
    "device = torch.device(f'cuda:{deviceID}' if torch.cuda.is_available() else 'cpu')\n",
    "\n",
    "def show_mask(mask, ax, random_color=False):\n",
    "    if random_color:\n",
    "        color = np.concatenate([np.random.random(3), np.array([0.6])], axis=0)\n",
    "    else:\n",
    "        color = np.array([30/255, 144/255, 255/255, 0.6])\n",
    "    h, w = mask.shape[-2:]\n",
    "    mask_image = mask.reshape(h, w, 1) * color.reshape(1, 1, -1)\n",
    "    ax.imshow(mask_image)\n",
    "    \n",
    "def show_points(coords, labels, ax, marker_size=375):\n",
    "    pos_points = coords[labels==1]\n",
    "    neg_points = coords[labels==0]\n",
    "    ax.scatter(pos_points[:, 0], pos_points[:, 1], color='green', marker='*', s=marker_size, edgecolor='white', linewidth=1.25)\n",
    "    ax.scatter(neg_points[:, 0], neg_points[:, 1], color='red', marker='*', s=marker_size, edgecolor='white', linewidth=1.25)   \n",
    "    \n",
    "def show_box(box, ax):\n",
    "    x0, y0 = box[0], box[1]\n",
    "    w, h = box[2] - box[0], box[3] - box[1]\n",
    "    ax.add_patch(plt.Rectangle((x0, y0), w, h, edgecolor='green', facecolor=(0,0,0,0), lw=2))  \n"
   ]
  },
  {
   "cell_type": "code",
   "execution_count": null,
   "metadata": {},
   "outputs": [],
   "source": [
    "from segment_anything import build_sam, SamPredictor \n",
    "sam_checkpoint = './sam_vit_h_4b8939.pth'\n",
    "predictor = SamPredictor(build_sam(checkpoint=sam_checkpoint).to(device=device))"
   ]
  },
  {
   "cell_type": "code",
   "execution_count": null,
   "metadata": {},
   "outputs": [],
   "source": [
    "predictor.set_image(image)\n",
    "pos_points = np.array(pos_coords)\n",
    "neg_points = np.array(neg_coords)\n",
    "pos_labels = np.ones(len(pos_points))\n",
    "neg_labels = np.zeros(len(neg_points))"
   ]
  },
  {
   "cell_type": "code",
   "execution_count": null,
   "metadata": {},
   "outputs": [],
   "source": [
    "masks, scores, logits = predictor.predict(\n",
    "    point_coords=pos_points,\n",
    "    point_labels=pos_labels,\n",
    "    multimask_output=True,\n",
    ")"
   ]
  },
  {
   "cell_type": "code",
   "execution_count": null,
   "metadata": {},
   "outputs": [],
   "source": [
    "for i, (mask, score) in enumerate(zip(masks, scores)):\n",
    "    plt.figure(figsize=(10,10))\n",
    "    plt.imshow(image)\n",
    "    show_mask(mask, plt.gca())\n",
    "    show_points(pos_points, pos_labels, plt.gca())\n",
    "    plt.title(f\"Mask {i+1}, Score: {score:.3f}\", fontsize=18)\n",
    "    plt.axis('off')\n",
    "    plt.show()  "
   ]
  },
  {
   "cell_type": "code",
   "execution_count": null,
   "metadata": {},
   "outputs": [],
   "source": [
    "input_point = np.concatenate((pos_points, neg_points), axis=0)\n",
    "input_label = np.concatenate((pos_labels, neg_labels), axis=0)\n",
    "mask_input = logits[np.argmax(scores), :, :]  # Choose the model's best mask\n",
    "\n",
    "masks, _, _ = predictor.predict(\n",
    "    point_coords=input_point,\n",
    "    point_labels=input_label,\n",
    "    mask_input=mask_input[None, :, :],\n",
    "    multimask_output=False,\n",
    ")\n",
    "\n",
    "plt.figure(figsize=(10,10))\n",
    "plt.imshow(image)\n",
    "show_mask(masks, plt.gca())\n",
    "show_points(input_point, input_label, plt.gca())\n",
    "plt.axis('off')\n",
    "plt.show() "
   ]
  },
  {
   "cell_type": "code",
   "execution_count": null,
   "metadata": {},
   "outputs": [],
   "source": [
    "mask_pil = Image.fromarray(masks[0])\n",
    "image_pil = Image.fromarray(image)"
   ]
  },
  {
   "cell_type": "code",
   "execution_count": null,
   "metadata": {},
   "outputs": [],
   "source": [
    "# diffusers\n",
    "\n",
    "from diffusers import StableDiffusionInpaintPipeline\n",
    "\n",
    "from diffusers import StableDiffusionInpaintPipeline\n",
    "pipe = StableDiffusionInpaintPipeline.from_pretrained(\n",
    "    \"stabilityai/stable-diffusion-2-inpainting\",\n",
    "    torch_dtype=torch.float16,\n",
    ")\n",
    "\n",
    "# pipe = StableDiffusionInpaintPipeline.from_pretrained(\"runwayml/stable-diffusion-inpainting\", torch_dtype=torch.float16)\n",
    "pipe = pipe.to(device)\n",
    "pipe.safety_checker = lambda images, clip_input: (images, False) # disable safety checker(not recommended)"
   ]
  },
  {
   "cell_type": "code",
   "execution_count": null,
   "metadata": {},
   "outputs": [],
   "source": [
    "inpaint_prompt = 'high resolution, a man wearing a fashion green inner T-shirt, hightly detail'\n",
    "guidance_scale = 7.5\n",
    "num_inference_steps = 50\n",
    "inpainted_image = pipe(prompt=inpaint_prompt, image=image_pil, mask_image=mask_pil, \n",
    "                       num_inference_steps=num_inference_steps, guidance_scale=guidance_scale).images[0]\n",
    "inpainted_image"
   ]
  },
  {
   "cell_type": "code",
   "execution_count": null,
   "metadata": {},
   "outputs": [],
   "source": []
  }
 ],
 "metadata": {
  "kernelspec": {
   "display_name": "Python 3 (ipykernel)",
   "language": "python",
   "name": "python3"
  },
  "language_info": {
   "codemirror_mode": {
    "name": "ipython",
    "version": 3
   },
   "file_extension": ".py",
   "mimetype": "text/x-python",
   "name": "python",
   "nbconvert_exporter": "python",
   "pygments_lexer": "ipython3",
   "version": "3.8.17"
  }
 },
 "nbformat": 4,
 "nbformat_minor": 4
}
